{
 "cells": [
  {
   "cell_type": "code",
   "execution_count": 1,
   "id": "d073aeb6-9013-4e38-b9c0-8e8ed69d05fe",
   "metadata": {},
   "outputs": [],
   "source": [
    "from BPE import BPETrainer, BPEEncoder, BPEDecoder"
   ]
  },
  {
   "cell_type": "code",
   "execution_count": 2,
   "id": "6bba3f8f-2bb9-477a-8fdf-0f5dc5fbb279",
   "metadata": {},
   "outputs": [],
   "source": [
    "# Sample training text\n",
    "# SAMPLE TEXT : VIRAT KOHLI - WIKI\n",
    "text = \"Virat Kohli (born 5 November 1988)[a] is an Indian international cricketer who plays ODI cricket for the national team and is a former captain in all formats.[3] He is a right-handed batsman and occasional right-arm medium pace bowler. Considered one of the greatest all-format batsmen in the history of cricket, he is called the King, the Chase Master, and the Run Machine for his skills, records and ability to lead his team to victory.[4] Kohli is the highest run-scorer in the Indian Premier League, third in T20I, third in ODI, and third in international cricket.[5] He has the most ODI centuries and second-most centuries in international cricket, with a total of 82 centuries across all international formats of the game.[6] Kohli is also the most successful Test captain of India with back-to-back Test mace wins and most victories in his tenure.[7] He is the only batter to earn 900 rating points in all three formats.[8] Kohli was the captain of the 2008 U19 World Cup winning team and was a crucial member of the teams that won 2011 ODI World Cup, 2013 Champions Trophy, 2024 T20 World Cup, and 2025 Champions Trophy. He plays for Royal Challengers Bengaluru in the Indian Premier League and for Delhi in domestic cricket. In 2013, Kohli was ranked number one in the ODI batting rankings. In 2015, he achieved the same in T20I.[9] In 2018, he was ranked number one in Test, making him the only Indian to hold the number one spot in all three formats. He is the first player to score 20,000 runs in a decade. He was the Cricketer of the Decade for 2011 to 2020.[10] Kohli has won ten ICC Awards, making him the most awarded player in international cricket history. He won the ODI Player of the Year award four times in 2012, 2017, 2018, and 2023. He won the Cricketer of the Year award, on two occasions, in 2017 and 2018. In 2018, he became the first player to win all three major awards including Cricketer of the Year, ODI Player of the Year and Test Player of the Year in the same year. He was honored with the Spirit of Cricket Award in 2019 and given the Cricketer of the Decade and ODI Cricketer of the Decade in 2020. Kohli was named the Wisden Leading Cricketer in the World for three consecutive years. Kohli has the most Player of the Series and second most Player of the Match awards to his name in all three formats combined. He was honoured with the Arjuna Award in 2013, the Padma Shri in 2017, and India's highest sporting honour, the Khel Ratna Award, in 2018. Time included him on its 100 most influential people in the world list in 2018.After winning the 2024 T20 World Cup and winning the Player of the Match award in the final, Kohli announced his retirement from T20Is.[11] On 12 May 2025, aged 36, he announced his retirement from the Test format.[12] He is married to actress Anushka Sharma, and they have two children.[13]\"\n",
    "\n",
    "# Step 1: Train BPE\n",
    "trainer = BPETrainer()\n",
    "merge_dict, vocab = trainer.fit(text, vocab_size=300)"
   ]
  },
  {
   "cell_type": "code",
   "execution_count": 3,
   "id": "20c24e2e-a5d6-48d4-9b0e-97e6b65bb96d",
   "metadata": {},
   "outputs": [],
   "source": [
    "# Step 2: Add special tokens (they'll get unique token IDs above 255)\n",
    "special_tokens = [\"<PAD>\", \"<UNK>\", \"<BOS>\", \"<EOS>\"]\n",
    "trainer.add_special_tokens(special_tokens)"
   ]
  },
  {
   "cell_type": "code",
   "execution_count": 4,
   "id": "2e961185-8143-4c3a-84ef-12ec1055056a",
   "metadata": {},
   "outputs": [],
   "source": [
    "# Step 3: Save tokenizer to disk\n",
    "trainer.save_pickle(\"bpe_tokenizer.pkl\")"
   ]
  },
  {
   "cell_type": "code",
   "execution_count": 5,
   "id": "f03a057a-573b-45bd-a645-a5db841d69d5",
   "metadata": {},
   "outputs": [],
   "source": [
    "# Step 4: Load encoder & decoder from saved file\n",
    "encoder = BPEEncoder.from_pickle(\"bpe_tokenizer.pkl\")\n",
    "decoder = BPEDecoder.from_pickle(\"bpe_tokenizer.pkl\")"
   ]
  },
  {
   "cell_type": "code",
   "execution_count": 6,
   "id": "4fe47621-3b03-4fd6-a728-dc771f368b36",
   "metadata": {},
   "outputs": [
    {
     "name": "stdout",
     "output_type": "stream",
     "text": [
      "Encoded tokens: [302, 32, 115, 111, 109, 256, 116, 101, 120, 268, 115, 293, 112, 108, 256, 303]\n"
     ]
    }
   ],
   "source": [
    "# Step 5: Encode text with special tokens\n",
    "input_text = \"<BOS> some text sample <EOS>\"\n",
    "encoded = encoder.encode(input_text)\n",
    "print(\"Encoded tokens:\", encoded)"
   ]
  },
  {
   "cell_type": "code",
   "execution_count": 7,
   "id": "c06e6787-e081-4ac9-a5ec-267bc99ac9c0",
   "metadata": {},
   "outputs": [
    {
     "name": "stdout",
     "output_type": "stream",
     "text": [
      "Decoded text: <BOS> some text sample <EOS>\n",
      "Special token IDs: {'<PAD>': 300, '<UNK>': 301, '<BOS>': 302, '<EOS>': 303}\n"
     ]
    }
   ],
   "source": [
    "# Step 6: Decode back to text\n",
    "decoded = decoder.decode(encoded)\n",
    "print(\"Decoded text:\", decoded)\n",
    "\n",
    "# Step 7: Show special tokens and their IDs\n",
    "print(\"Special token IDs:\", trainer.get_special_tokens())"
   ]
  },
  {
   "cell_type": "code",
   "execution_count": null,
   "id": "0091332e-abac-4b49-825e-2d357e9e3a9b",
   "metadata": {},
   "outputs": [],
   "source": []
  }
 ],
 "metadata": {
  "kernelspec": {
   "display_name": "Python 3 (ipykernel)",
   "language": "python",
   "name": "python3"
  },
  "language_info": {
   "codemirror_mode": {
    "name": "ipython",
    "version": 3
   },
   "file_extension": ".py",
   "mimetype": "text/x-python",
   "name": "python",
   "nbconvert_exporter": "python",
   "pygments_lexer": "ipython3",
   "version": "3.11.7"
  }
 },
 "nbformat": 4,
 "nbformat_minor": 5
}
